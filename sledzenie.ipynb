{
 "cells": [
  {
   "cell_type": "code",
   "execution_count": 1,
   "metadata": {},
   "outputs": [],
   "source": [
    "import cv2 as cv\n",
    "import matplotlib.pyplot as plt\n",
    "import numpy as np\n",
    "import time \n",
    "import copy as cp"
   ]
  },
  {
   "cell_type": "code",
   "execution_count": 2,
   "metadata": {},
   "outputs": [],
   "source": [
    "def draw_countur(mask, frame):\n",
    "    contours, _ = cv.findContours(mask, cv.RETR_TREE, cv.CHAIN_APPROX_SIMPLE) # znajdowanie konturów\n",
    "\n",
    "    contours_poly = [None]*len(contours)                  # Lista do przechowywania konturów wygładzonych\n",
    "    boundRect = [None]*len(contours)                      # Lista do przechowywania bounding boxów\n",
    "    for i, c in enumerate(contours):\n",
    "        contours_poly[i] = cv.approxPolyDP(c, 3, True)    # Aproksymacja wielomianowa w celu wygładzenia konturów\n",
    "        boundRect[i] = cv.boundingRect(contours_poly[i])  # Tworzenie Bounding boxów\n",
    "    \n",
    "    for i in range(len(contours)):                        # Dodanie do Ramki obrazu bounding boxów\n",
    "        color = (0, 0 ,255)\n",
    "        cv.rectangle(frame, (int(boundRect[i][0]), int(boundRect[i][1])), \\\n",
    "          (int(boundRect[i][0]+boundRect[i][2]), int(boundRect[i][1]+boundRect[i][3])), color, 2)\n",
    "          \n",
    "    cv.imshow('Sledzone obiekty', frame)                  # Wyświetlanie na ekran przetworzonego obrazu"
   ]
  },
  {
   "cell_type": "code",
   "execution_count": 19,
   "metadata": {},
   "outputs": [
    {
     "name": "stdout",
     "output_type": "stream",
     "text": [
      "Can't receive frame (stream end?). Exiting ...\n"
     ]
    },
    {
     "data": {
      "text/plain": [
       "<Figure size 864x1152 with 0 Axes>"
      ]
     },
     "metadata": {},
     "output_type": "display_data"
    }
   ],
   "source": [
    "def main():\n",
    "    \n",
    "    cap = cv.VideoCapture(\"vid2.mp4\")                                        # Pobieranie obrazu z pliku bądź kamery\n",
    "    if not cap.isOpened():\n",
    "        print(\"Cannot open camera\")\n",
    "        exit()\n",
    "    else:\n",
    "        iter = 0\n",
    "        lst_bound = []                                                          # Lista przechowująca ramki obrazu do wyznaczania histogramu\n",
    "        lst_mask = []                                                           # Liczta zawierające maskę binarną ramki do wyznaczenia histogramu\n",
    "        size = (1200, 720)                                                      # Wymiar ramki przetwarzanego obrazu\n",
    "\n",
    "        ret, frame = cap.read()                                                 # Pobieranie ramki obrazu\n",
    "        if not ret:                                                             # Sprawdzania czy odczytano ramkę obrazu poprawnie, jeżeli tak to ret == True\n",
    "            print(\"Can't receive frame (stream end?). Exiting ...\")\n",
    "        else:\n",
    "            # Pobieranie ramki z tłem                                  \n",
    "            base =cv.resize(frame,size)                                         # Tło o zminionym rozmiarze\n",
    "            gray_base = cv.cvtColor(base, cv.COLOR_BGR2GRAY)                    # Konwersja do barw odcieni szarości\n",
    "\n",
    "# --------------- Główna pętla programu ---------------------------------------\n",
    "            while True:\n",
    "                # Pobieranie obecnie przetwarzanej ramki obrazu\n",
    "                ret, frame = cap.read()\n",
    "                if not ret:                                                     # Sprawdzania czy odczytano ramkę obrazu poprawnie, jeżeli tak to ret == True\n",
    "                    print(\"Can't receive frame (stream end?). Exiting ...\")\n",
    "                    break\n",
    "                # Zmiana rozmiaru ramki obrazu oraz konwersja to barw w skali szarości         \n",
    "                frame =cv.resize(frame, size)                                   \n",
    "                gray_frame = cv.cvtColor(frame, cv.COLOR_BGR2GRAY)\n",
    "\n",
    "                # Różnica obrazu obecnie przetwarzanego z tłem oraz binaryzacja\n",
    "                # diff = cv.subtract(gray_frame, gray_base)\n",
    "                threshold = 150\n",
    "                binary = np.uint8(gray_frame < threshold) * 255\n",
    "\n",
    "                # Operacje morfologiczne - dylatacja i erozja\n",
    "                kernel = np.ones((5, 5), np.uint8)\n",
    "                dilated_mask = cv.dilate(binary, kernel, iterations=3)\n",
    "                mask = cv.erode(dilated_mask, kernel, iterations=4)\n",
    "\n",
    "                # Klasyfikator do wykrywania obiektu pojawiającego się na obrazie\n",
    "                SAD_classificator = np.sum(mask) /(size[0]*size[1])\n",
    "\n",
    "                # Wyświetlanie wartości klasyfikatora aby dobrać odpowiedni próg:\n",
    "                # print(f'SAD value: {SAD_classificator}')\n",
    "\n",
    "                # Decyzja o momencie wyliczania histogramów - czyli obiekt pojawił się na obrazie - decyduje o tym SAD\n",
    "                if SAD_classificator > 20:\n",
    "                    # TO DO: Wyliczenie histogramu, porównanie i klasyfikacja obiektu, komunikacja\n",
    "                    iter += 1\n",
    "                    if iter <= 10:\n",
    "                        lst_bound.append(cp.copy(frame))\n",
    "                        lst_mask.append(cp.copy(mask))\n",
    "\n",
    "                # Próbne wyświetlanie obrazu:\n",
    "                # cv.imshow('BINARY', mask)\n",
    "\n",
    "                # Rysowanie boundingboxów na obrazie:\n",
    "                # draw_countur(mask, frame)\n",
    "\n",
    "                # Zakończenie działania programu:\n",
    "                if cv.waitKey(1) == ord('q'):\n",
    "                    break\n",
    "\n",
    "                # Do odczytywania video z pliku, jeśli z kamery to zakomentować linijkę poniżej\n",
    "                time.sleep(0.03)\n",
    "\n",
    "# --------------- Koniec głównej pętli programu -------------------------------\n",
    "\n",
    "        # Niszczenie okien do wyświetlania obrazu oraz jego pobierania\n",
    "        cv.waitKey(0)\n",
    "        cv.destroyAllWindows()\n",
    "\n",
    "\n",
    "    # Wyświetlanie zgromadzonych zdjęć do przetwarzania i wylicznia histogramu:\n",
    "    plt.figure(figsize=(12,16))\n",
    "    for i in range(len(lst_bound)):\n",
    "        plt.subplot(5, 2, i+1)\n",
    "        if i % 2 == 0:\n",
    "            plt.imshow(lst_bound[i])\n",
    "            plt.title('Ramka orginalna')\n",
    "        else:\n",
    "            plt.imshow(lst_mask[i-1], cmap='gray')\n",
    "            plt.title(\"Maska\")\n",
    "    plt.show()\n",
    "main()"
   ]
  },
  {
   "cell_type": "code",
   "execution_count": 25,
   "metadata": {},
   "outputs": [
    {
     "name": "stdout",
     "output_type": "stream",
     "text": [
      "[[  0   0   0]\n",
      " [  0 255   0]\n",
      " [  0   0   0]]\n"
     ]
    },
    {
     "data": {
      "text/plain": [
       "True"
      ]
     },
     "execution_count": 25,
     "metadata": {},
     "output_type": "execute_result"
    }
   ],
   "source": [
    "a = np.array([[0, 0, 0], [0, 255, 0], [0, 0, 0]])\n",
    "print(a)\n",
    "np.any(a[:, 0]) == 0"
   ]
  }
 ],
 "metadata": {
  "kernelspec": {
   "display_name": "Python 3.9.13 64-bit",
   "language": "python",
   "name": "python3"
  },
  "language_info": {
   "codemirror_mode": {
    "name": "ipython",
    "version": 3
   },
   "file_extension": ".py",
   "mimetype": "text/x-python",
   "name": "python",
   "nbconvert_exporter": "python",
   "pygments_lexer": "ipython3",
   "version": "3.9.13"
  },
  "orig_nbformat": 4,
  "vscode": {
   "interpreter": {
    "hash": "8f8cf99212f81ad0c4765861267244807ee1c18364846cdce387b28994a977ba"
   }
  }
 },
 "nbformat": 4,
 "nbformat_minor": 2
}
